{
 "cells": [
  {
   "cell_type": "code",
   "execution_count": null,
   "metadata": {},
   "outputs": [],
   "source": [
    "%matplotlib inline\n",
    "import tk\n",
    "import numpy as np\n",
    "import pandas as pd \n",
    "import datetime\n",
    "%config InlineBackend.figure_formats = ['svg']\n",
    "from matplotlib import pyplot as plt \n",
    "import seaborn as sns; sns.set()\n",
    "import plotly.graph_objects as go\n",
    "import chart_studio\n",
    "import chart_studio.plotly as py\n",
    "import requests \n",
    "import random \n",
    "import plotly.express as px\n",
    "from geopy.geocoders import Nominatim\n",
    "geolocator = Nominatim(user_agent=\"YOUR_TOOL_HERE\")\n",
    "from geopy.exc import GeocoderTimedOut\n",
    "from geopy.extra.rate_limiter import RateLimiter\n",
    "\n",
    "\n"
   ]
  },
  {
   "attachments": {},
   "cell_type": "markdown",
   "metadata": {},
   "source": [
    "The following cell is only necessary if you want to upload the maps to chart-studio later."
   ]
  },
  {
   "cell_type": "code",
   "execution_count": null,
   "metadata": {},
   "outputs": [],
   "source": [
    "chart_studio.tools.set_credentials_file(username='YOUR_USERNAME_HERE', api_key='YOUR_KEY_HERE')"
   ]
  },
  {
   "attachments": {},
   "cell_type": "markdown",
   "metadata": {},
   "source": [
    "# Loading and preprocessing data"
   ]
  },
  {
   "cell_type": "code",
   "execution_count": null,
   "metadata": {},
   "outputs": [],
   "source": [
    "df_ms = pd.read_excel(\"1_multiple_sclerosis/ms_digital_trials.xlsx\")\n",
    "df_ms[\"Indication\"] = \"MS\"\n",
    "\n",
    "df_alz = pd.read_excel(\"2_alzheimer/az_digital_trials.xlsx\")\n",
    "df_alz[\"Indication\"] = \"ALZ\"\n",
    "\n",
    "df_park = pd.read_excel(\"3_parkinson/pk_digital_trials.xlsx\")\n",
    "df_park[\"Indication\"] = \"PARK\"\n",
    "\n",
    "df_epi = pd.read_excel(\"4_epilepsy/ep_digital_trials.xlsx\")\n",
    "df_epi[\"Indication\"] = \"EPI\"\n"
   ]
  },
  {
   "cell_type": "code",
   "execution_count": null,
   "metadata": {},
   "outputs": [],
   "source": [
    "all_ind_df = pd.concat([df_ms, df_alz, df_park, df_epi])\n",
    "print(len(all_ind_df))"
   ]
  },
  {
   "cell_type": "code",
   "execution_count": null,
   "metadata": {},
   "outputs": [],
   "source": [
    "all_ind_df = all_ind_df[(all_ind_df[\"criteria_met\"] == 1)]\n",
    "print(len(all_ind_df))"
   ]
  },
  {
   "cell_type": "code",
   "execution_count": null,
   "metadata": {},
   "outputs": [],
   "source": [
    "all_ind_df = all_ind_df.reset_index(drop = True)"
   ]
  },
  {
   "cell_type": "code",
   "execution_count": null,
   "metadata": {},
   "outputs": [],
   "source": [
    "all_ind_df[\"study_type\"] = pd.Categorical(all_ind_df[\"study_type\"], [ \"Observational [Patient Registry]\", \"Observational\",\"Interventional\" ])\n"
   ]
  },
  {
   "attachments": {},
   "cell_type": "markdown",
   "metadata": {},
   "source": [
    "Read in actual titles in a format that is suitable for display later. Next two cells can be skipped if dataset already contains official titles."
   ]
  },
  {
   "cell_type": "code",
   "execution_count": null,
   "metadata": {},
   "outputs": [],
   "source": [
    "def title_reader(id):\n",
    "    a = \"https://www.clinicaltrials.gov/api/query/study_fields?expr=\"\n",
    "    c = \"&fields=OfficialTitle&min_rnk=1&max_rnk=&fmt=csv\"\n",
    "    request = a+id+c\n",
    "    trial_title = pd.read_csv(request,skiprows=10) \n",
    "    return trial_title[\"OfficialTitle\"][0]\n",
    "\n"
   ]
  },
  {
   "cell_type": "code",
   "execution_count": null,
   "metadata": {},
   "outputs": [],
   "source": [
    "all_ind_df['official_title'] = all_ind_df.apply(lambda row : title_reader(row[\"nct_id\"]), axis = 1)"
   ]
  },
  {
   "cell_type": "code",
   "execution_count": null,
   "metadata": {},
   "outputs": [],
   "source": [
    "print_me = all_ind_df.groupby(\"nct_id\", sort = True)[\"nct_id\"].count().sort_values(ascending=False) #10 studies with duplicates\n",
    "print_me[:11]"
   ]
  },
  {
   "attachments": {},
   "cell_type": "markdown",
   "metadata": {},
   "source": [
    "# Analysis"
   ]
  },
  {
   "attachments": {},
   "cell_type": "markdown",
   "metadata": {},
   "source": [
    "## Longitudinal study type development\n"
   ]
  },
  {
   "cell_type": "code",
   "execution_count": null,
   "metadata": {},
   "outputs": [],
   "source": [
    "rel_years = [2010,2011,2012,2013,2014,2015,2016,2017,2018,2019,2020,2021]\n",
    "dht_per_year = []\n",
    "for year in rel_years:\n",
    "    dht_per_year.append(len(all_ind_df[(all_ind_df[\"year\"] == year)]))\n",
    "\n",
    "all_per_year= [431,442, 472, 508, 542, 604, 625, 631,743, 825, 719, 882]  \n",
    "rate_df = pd.DataFrame( data = {\"All_Trials\":all_per_year, \"DHT_Trials\":dht_per_year})\n",
    "rate_df[\"rate\"] = round(rate_df[\"DHT_Trials\"]/rate_df[\"All_Trials\"]*100,2)\n",
    "rate_df\n",
    "\n",
    "\n"
   ]
  },
  {
   "cell_type": "code",
   "execution_count": null,
   "metadata": {},
   "outputs": [],
   "source": [
    "###Summary Graph with rate\n",
    "\n",
    "fig = plt.figure(figsize=(8.05,3))\n",
    "sns.set_theme(style=\"white\")\n",
    "ax = fig.add_subplot(111)\n",
    "\n",
    "fig1 = sns.histplot(ax = ax,data = all_ind_df , x = \"year\",   binwidth = 1, discrete = True, hue = \"study_type\", palette= [\"skyblue\", \"indianred\", \"gold\", ], multiple= \"stack\", shrink = 0.8)\n",
    "ax.legend([\"Interventional\", \"Observational\", \"Registries\"], fontsize = \"x-small\")\n",
    "handles1=  ax.get_legend().legendHandles\n",
    "ax.get_legend().remove()\n",
    "plt.ylabel(\"Number of Studies\")\n",
    "plt.xlabel(\"Year\")\n",
    "\n",
    "\n",
    "ax2 = ax.twinx()\n",
    "fig2 = sns.lineplot(ax = ax2, x = rel_years, y = rate_df.rate, color = \"#0A2342\", linestyle = \"--\",label = '% of all ClinicalTrials.gov\\n Registered Trials')\n",
    "handles2,labels2 = ax2.get_legend_handles_labels()\n",
    "handles = handles1+handles2\n",
    "labels= [\"Interventional\", \"Observational\", \"Registries\", '% of All ClinicalTrials.gov\\n Registered Trials']\n",
    "ax2.legend(handles, labels,fontsize = \"x-small\", frameon = True)\n",
    "plt.ylabel(\"% of All Studies\")\n",
    "ax.tick_params(left=True, bottom=False, right = False)\n",
    "ax2.tick_params(left=False, bottom=False, right = True)\n",
    "sns.despine(left = True)\n",
    "\n",
    "plt.title(\"Development of Study Types\")\n",
    "plt.xticks([2010,2011,2012,2013,2014,2015,2016,2017,2018,2019,2020,2021])\n",
    "\n",
    "plt.savefig('Graphs/99_AGG_Frequency_plot_by_study_type_and_rate.svg', dpi = 600, bbox_inches = 'tight')\n",
    "plt.savefig('Graphs/99_AGG_Frequency_plot_by_study_type_and_rate.eps',  bbox_inches = 'tight')\n",
    "\n",
    "\n",
    "plt.show()"
   ]
  },
  {
   "cell_type": "code",
   "execution_count": null,
   "metadata": {},
   "outputs": [],
   "source": [
    "all_ind_df[\"Indication\"] = pd.Categorical(all_ind_df[\"Indication\"], [ \"EPI\", \"ALZ\", \"MS\", \"PARK\" ])"
   ]
  },
  {
   "attachments": {},
   "cell_type": "markdown",
   "metadata": {},
   "source": [
    "## Defining colors"
   ]
  },
  {
   "cell_type": "code",
   "execution_count": null,
   "metadata": {},
   "outputs": [],
   "source": [
    "pal = sns.color_palette(\"hls\", 15)\n"
   ]
  },
  {
   "cell_type": "code",
   "execution_count": null,
   "metadata": {},
   "outputs": [],
   "source": [
    "index_list = [0,2,8,11]\n",
    "pal = pal.as_hex()\n",
    "colors = [ pal[i] for i in index_list]\n",
    "pal = sns.color_palette([\"indianred\", \"gold\", \"skyblue\", \"#9457db\"] )"
   ]
  },
  {
   "attachments": {},
   "cell_type": "markdown",
   "metadata": {},
   "source": [
    "## Longitudinal indication development"
   ]
  },
  {
   "cell_type": "code",
   "execution_count": null,
   "metadata": {},
   "outputs": [],
   "source": [
    "###Orientation 2\n",
    "\n",
    "plt.figure(figsize=(8.05,3))\n",
    "sns.set_theme(style=\"white\")\n",
    "ax = sns.histplot(data = all_ind_df , x = \"year\",   binwidth = 1, discrete = True, hue = \"Indication\", palette= pal, multiple= \"stack\", shrink = 0.8, label = \"Stackbar\")\n",
    "handles,labels = ax.get_legend_handles_labels()\n",
    "handles = handles[::-1]\n",
    "labels = [\"Epi.\", \"AD\", \"MS\", \"PD\"]\n",
    "ax.legend(handles, labels,fontsize = \"x-small\")\n",
    "plt.xticks([2010,2011,2012,2013,2014,2015,2016,2017,2018,2019,2020,2021])\n",
    "ax.tick_params(left=True, bottom=False, right = False)\n",
    "sns.despine(left = True)\n",
    "\n",
    "\n",
    "plt.ylabel(\"Number of Studies\")\n",
    "plt.xlabel(\"Year\")\n",
    "plt.title(\"Development of Studies by Indication\")\n",
    "plt.savefig('Graphs/99_AGG_Frequency_plot_by_indication.svg', dpi = 600, bbox_inches = 'tight')\n",
    "plt.savefig('Graphs/99_AGG_Frequency_plot_by_indication.eps',  bbox_inches = 'tight')\n",
    "\n",
    "\n",
    "plt.show()"
   ]
  },
  {
   "attachments": {},
   "cell_type": "markdown",
   "metadata": {},
   "source": [
    "## Other longitudinal development (such as industrial sponsoring)"
   ]
  },
  {
   "cell_type": "code",
   "execution_count": null,
   "metadata": {},
   "outputs": [],
   "source": [
    "all_ind_df[\"industry\"] = pd.Categorical(all_ind_df[\"industry\"], [ 1,0])"
   ]
  },
  {
   "cell_type": "code",
   "execution_count": null,
   "metadata": {},
   "outputs": [],
   "source": [
    "###Orientation 3\n",
    "\n",
    "plt.figure(figsize=(8,3))\n",
    "sns.set_theme(style=\"white\")\n",
    "ax = sns.histplot(data = all_ind_df , x = \"year\",   binwidth = 1, discrete = True, hue = \"industry\", palette= [ \"coral\",\"gray\"], multiple= \"stack\", shrink = 0.8, label = \"Theplot\")\n",
    "handles,labels = ax.get_legend_handles_labels()\n",
    "handles = handles[::-1]\n",
    "labels = [\"Industry sponsored\", \"Not industry sponsored\"]\n",
    "ax.legend(handles, labels,fontsize = \"x-small\")\n",
    "SaveLegendForLater = ax.legend(handles, labels,fontsize = \"x-small\")\n",
    "plt.xticks([2010,2011,2012,2013,2014,2015,2016,2017,2018,2019,2020,2021])\n",
    "ax.tick_params(left=True, bottom=False, right = False)\n",
    "sns.despine(left = True)\n",
    "\n",
    "\n",
    "plt.ylabel(\"Number of Studies\")\n",
    "plt.xlabel(\"Year\")\n",
    "plt.title(\"Development of Industry Sponsoring\")\n",
    "plt.savefig('Graphs/99_AGG_Frequency_plot_by_study_sponsor.svg', dpi = 600, bbox_inches = 'tight')\n",
    "plt.show()\n",
    "\n",
    "\n"
   ]
  },
  {
   "cell_type": "code",
   "execution_count": null,
   "metadata": {},
   "outputs": [],
   "source": [
    "add_line_graph_data= pd.DataFrame( data= { \"studies_year\":[3,7, 4, 12, 18, 32, 31, 37,55, 74, 82, 86],\n",
    "                                          \"industry_year\":[1,2, 0, 3, 3, 5, 11, 8,8, 13, 22, 14]})\n",
    "                                  \n"
   ]
  },
  {
   "cell_type": "code",
   "execution_count": null,
   "metadata": {},
   "outputs": [],
   "source": [
    "add_line_graph_data"
   ]
  },
  {
   "cell_type": "code",
   "execution_count": null,
   "metadata": {},
   "outputs": [],
   "source": [
    "ax.get_legend"
   ]
  },
  {
   "cell_type": "code",
   "execution_count": null,
   "metadata": {},
   "outputs": [],
   "source": [
    "names = [\"Epi.\", \"Alz.\", \"MS\", \"Park.\"]\n",
    "data_industry_percentage = [ 100*len(df_epi[(df_epi['industry'] == 1)] )/ len(df_epi), 100*len(df_alz[(df_alz['industry'] == 1)] )/ len(df_alz),100* len(df_ms[(df_ms['industry'] == 1)] )/ len(df_ms), 100*len(df_park[(df_park['industry'] == 1)] )/ len(df_park)]\n",
    "data_industry_percentage \n",
    "industry_sponsered_num = [len(df_epi[(df_epi['industry'] == 1)]), len(df_alz[(df_alz['industry'] == 1)]), len(df_ms[(df_ms['industry'] == 1)]), len(df_park[(df_park['industry'] == 1)])]\n",
    "data_count = [len(df_epi), len(df_alz), len(df_ms), len(df_park)]\n",
    "overview_df = pd.DataFrame(list(zip(names, data_count, data_industry_percentage, industry_sponsered_num)), columns = [\"Name\", \"Count\", \"Industry_Percentage\", \"Industry_count\"])\n"
   ]
  },
  {
   "cell_type": "code",
   "execution_count": null,
   "metadata": {},
   "outputs": [],
   "source": [
    "\n",
    "plt.figure(figsize=(8,3))\n",
    "sns.set_theme(style=\"white\")\n",
    "fig, ax1 = plt.subplots()\n",
    "ax2 = ax1.twinx()\n",
    "sns.barplot(data = overview_df , x = \"Name\", y = \"Count\" ,    palette= pal, label = \"Theplot\", alpha = 0.7, ax = ax1)\n",
    "sns.barplot(data = overview_df , x = \"Name\", y = \"Industry_Percentage\" , palette= [\"darkblue\"], label = \"Theplot\", alpha = 0.2, ax = ax2, edgecolor=\"w\")\n",
    "ax2.set_ylim(0,105)\n",
    "ax1.set_xlabel('Indication')\n",
    "ax1.set_ylabel('Study Counts')\n",
    "ax2.set_ylabel('Percentage Industry Sponsored', color='b')\n",
    "#handles,labels = ax.get_legend_handles_labels()\n",
    "#handles = handles[::-1]\n",
    "#labels = [\"Industry sponsored\", \"Not industry sponsored\"]\n",
    "#ax.legend(handles, labels,fontsize = \"x-small\")\n",
    "\n",
    "plt.title(\"Industry Sponsoring across Indications\")\n",
    "plt.savefig('Graphs/99_AGG_Industry_by_Indication.svg', dpi = 600, bbox_inches = 'tight')\n",
    "plt.show()"
   ]
  },
  {
   "cell_type": "code",
   "execution_count": null,
   "metadata": {},
   "outputs": [],
   "source": [
    "from matplotlib.lines import Line2D\n",
    "plt.figure(figsize=(5,3))\n",
    "sns.set_theme(style=\"white\")\n",
    "ax = sns.histplot(data = all_ind_df , x = \"Indication\", hue =\"industry\", multiple = \"stack\", discrete =True,  alpha = 0.7, binwidth = 1, shrink = 0.5, palette= [ \"coral\",\"gray\"], legend = False)\n",
    "\n",
    "# custom_lines = [Line2D([0], [0], color=\"coral\", lw=2),\n",
    "#                 Line2D([0], [0], color=\"gray\", lw=2)]\n",
    "#ax.legend(custom_lines, [\"Industry sponsored\", \"Not industry sponsored\"])\n",
    "handles = handles[::-1]\n",
    "labels = [   \"Industry sponsored\",\"Not industry sponsored\"]\n",
    "ax.legend(handles, labels,fontsize = \"x-small\")\n",
    "\n",
    "ax.set(xticklabels = [\"Epi.\", \"AD\", \"MS\", \"PD\"])\n",
    "ax.tick_params(left=True, bottom=False, right = False)\n",
    "sns.despine(left = True)\n",
    "\n",
    "\n",
    "\n",
    "\n",
    "\n",
    "plt.title(\"Indication Studies by Sponsoring\")\n",
    "plt.savefig('Graphs/99_Studynumber_by_Sponsoring.svg', dpi = 600, bbox_inches = 'tight')\n",
    "plt.show()"
   ]
  },
  {
   "attachments": {},
   "cell_type": "markdown",
   "metadata": {},
   "source": [
    "## Treemap of frequency"
   ]
  },
  {
   "cell_type": "code",
   "execution_count": null,
   "metadata": {},
   "outputs": [],
   "source": [
    "tb_MS = [len(df_ms[(df_ms['industry'] == 0)]), len(df_ms[(df_ms['industry'] == 1)])]\n",
    "tb_PARK = [len(df_park[(df_park['industry'] == 0)]), len(df_park[(df_park['industry'] == 1)])]\n",
    "tb_EPI = [len(df_epi[(df_epi['industry'] == 0)]), len(df_epi[(df_epi['industry'] == 1)])]\n",
    "tb_ALZ = [len(df_alz[(df_alz['industry'] == 0)]), len(df_alz[(df_alz['industry'] == 1)])]\n",
    "tb_all = tb_MS + tb_PARK + tb_EPI + tb_ALZ\n",
    "\n",
    "tb_MS2 = [len(df_ms)]\n",
    "tb_PARK2 = [len(df_park)]\n",
    "tb_EPI2 = [len(df_epi)]\n",
    "tb_ALZ2 = [len(df_alz)]\n",
    "tb_all2 = tb_EPI2 + tb_ALZ2 + tb_MS2 + tb_PARK2 \n"
   ]
  },
  {
   "cell_type": "code",
   "execution_count": null,
   "metadata": {},
   "outputs": [],
   "source": [
    "import squarify   \n",
    "\n",
    "# plot it\n",
    "squarify.plot(sizes=tb_all2,  alpha=.8, color = pal, label = [\"Epi.\", \"AD\", \"MS\", \"PD\"], pad = True )\n",
    "plt.title(\"Composition of Studies by Indication\")\n",
    "plt.axis('off')\n",
    "plt.savefig('Graphs/99_AGG_Indication_Treemap.svg', dpi = 600, bbox_inches = 'tight')\n",
    "plt.show()\n"
   ]
  },
  {
   "attachments": {},
   "cell_type": "markdown",
   "metadata": {},
   "source": [
    "## Overview of most commonly used tools"
   ]
  },
  {
   "cell_type": "code",
   "execution_count": null,
   "metadata": {},
   "outputs": [],
   "source": [
    "tools_df = all_ind_df.iloc[:, 53:1071]\n",
    "tools_overview = tools_df.sum().sort_values(ascending = False)\n",
    "tools_overview\n",
    "tools_overview = tools_overview[tools_overview > 0]\n",
    "print(tools_overview)\n",
    "tools_overview.to_excel(\"Outputs/99_AGG_Tools_Overview.xlsx\")\n",
    "\n"
   ]
  },
  {
   "cell_type": "code",
   "execution_count": null,
   "metadata": {},
   "outputs": [],
   "source": [
    "all_ind_df.phase.value_counts()\n",
    "#sum of all phases = 50"
   ]
  },
  {
   "attachments": {},
   "cell_type": "markdown",
   "metadata": {},
   "source": [
    "## Analysis of features and used tools"
   ]
  },
  {
   "cell_type": "code",
   "execution_count": null,
   "metadata": {},
   "outputs": [],
   "source": [
    "phones_total = len(all_ind_df[(all_ind_df[\"android\"] == 1) | (all_ind_df[\"smartphone\"] == 1) | (all_ind_df[\"smart_phone\"] == 1) |(all_ind_df[\"galaxy_s4\"] == 1) |  (all_ind_df[\"galaxy_s5\"] == 1) | (all_ind_df[\"galaxy_s6\"] == 1) | (all_ind_df[\"galaxy_s7\"] == 1) | (all_ind_df[\"galaxy_s8\"] == 1) | (all_ind_df[\"galaxy_sii\"] == 1) | (all_ind_df[\"smartphone\"] == 1) | (all_ind_df[\"iphone\"] == 1)])\n",
    "tablets_total = len(all_ind_df[ (all_ind_df[\"galaxy_tab\"] == 1) | (all_ind_df[\"ipad\"] == 1)])\n",
    "phone_tab_total = len(all_ind_df[(all_ind_df[\"android\"] == 1) | (all_ind_df[\"smartphone\"] == 1) | (all_ind_df[\"smart_phone\"] == 1) |(all_ind_df[\"galaxy_s4\"] == 1) |  (all_ind_df[\"galaxy_s5\"] == 1) | (all_ind_df[\"galaxy_s6\"] == 1) | (all_ind_df[\"galaxy_s7\"] == 1) | (all_ind_df[\"galaxy_s8\"] == 1) | (all_ind_df[\"galaxy_sii\"] == 1) | (all_ind_df[\"smartphone\"] == 1) | (all_ind_df[\"iphone\"] == 1) | (all_ind_df[\"galaxy_tab\"] == 1) | (all_ind_df[\"ipad\"] == 1) | (all_ind_df[\"mobile_app\"] == 1)])\n",
    "print( \"Phones total:  \", phones_total , \"Percentage Phones: \", phones_total/len(all_ind_df), \"\\n\" \"Tablets total: \", tablets_total , \"Percentage Tablets: \", tablets_total/len(all_ind_df), \"\\n\" \"All Smartphone/Tablets/Mobile Apps total: \", phone_tab_total , \"Percentage: \", phone_tab_total/len(all_ind_df))\n"
   ]
  },
  {
   "cell_type": "code",
   "execution_count": null,
   "metadata": {},
   "outputs": [],
   "source": [
    "Ind = [\"MS\", \"ALZ\", \"EPI\", \"PARK\"]\n",
    "\n",
    "for i in Ind:\n",
    "    phones_total = len(all_ind_df[(all_ind_df[\"Indication\"] == i) & ((all_ind_df[\"android\"] == 1) | (all_ind_df[\"smartphone\"] == 1) | (all_ind_df[\"smart_phone\"] == 1) | (all_ind_df[\"galaxy_s4\"] == 1) |  (all_ind_df[\"galaxy_s5\"] == 1) | (all_ind_df[\"galaxy_s6\"] == 1) | (all_ind_df[\"galaxy_s7\"] == 1) | (all_ind_df[\"galaxy_s8\"] == 1) | (all_ind_df[\"galaxy_sii\"] == 1) | (all_ind_df[\"smartphone\"] == 1) | (all_ind_df[\"iphone\"] == 1))])\n",
    "    tablets_total = len(all_ind_df[(all_ind_df[\"Indication\"] == i) & ((all_ind_df[\"galaxy_tab\"] == 1) | (all_ind_df[\"ipad\"] == 1))])\n",
    "    phone_tab_total = len(all_ind_df[(all_ind_df[\"Indication\"] == i) & ((all_ind_df[\"android\"] == 1) | (all_ind_df[\"smartphone\"] == 1) | (all_ind_df[\"smart_phone\"] == 1) | (all_ind_df[\"galaxy_s4\"] == 1) |  (all_ind_df[\"galaxy_s5\"] == 1) | (all_ind_df[\"galaxy_s6\"] == 1) | (all_ind_df[\"galaxy_s7\"] == 1) | (all_ind_df[\"galaxy_s8\"] == 1) | (all_ind_df[\"galaxy_sii\"] == 1) | (all_ind_df[\"smartphone\"] == 1) | (all_ind_df[\"iphone\"] == 1) | (all_ind_df[\"galaxy_tab\"] == 1) | (all_ind_df[\"ipad\"] == 1) | (all_ind_df[\"mobile_app\"] == 1))])\n",
    "    print( f'{i}', \"Phones total: \", phones_total , \"Percentage Phones: \", phones_total/len(all_ind_df[(all_ind_df[\"Indication\"] == i)]), \"\\n\" f'{i}',\"Tablets total: \", tablets_total , \"Percentage Tablets: \", tablets_total/len(all_ind_df[(all_ind_df[\"Indication\"] == i)]), \"\\n\" f'{i}',\"All Smartphone/Tablets/Mobile Apps total: \", phone_tab_total , \"Percentage: \", phone_tab_total/len(all_ind_df[(all_ind_df[\"Indication\"] == i)]))\n"
   ]
  },
  {
   "cell_type": "code",
   "execution_count": null,
   "metadata": {},
   "outputs": [],
   "source": [
    "physio_total = len(all_ind_df[(all_ind_df[\"Indication\"] == \"MS\") &((all_ind_df[\"kinect\"] == 1) | (all_ind_df[\"xbox\"] == 1) | (all_ind_df[\"nintendo_wii\"] == 1) )])\n",
    "print( \"Physio Virtual Training:  \",physio_total,   \"Percentage: \", physio_total/len(all_ind_df[all_ind_df[\"Indication\"] == \"MS\"]))\n"
   ]
  },
  {
   "cell_type": "code",
   "execution_count": null,
   "metadata": {},
   "outputs": [],
   "source": [
    "\n",
    "for i in Ind:\n",
    "    physio_total = len(all_ind_df[(all_ind_df[\"Indication\"] == i) &((all_ind_df[\"kinect\"] == 1) | (all_ind_df[\"xbox\"] == 1) | (all_ind_df[\"nintendo_wii\"] == 1) )])\n",
    "    print( f'{i}:', \"Physio Virtual Training:  \",physio_total,   \"Percentage: \", physio_total/len(all_ind_df[all_ind_df[\"Indication\"] == i]))\n"
   ]
  },
  {
   "cell_type": "code",
   "execution_count": null,
   "metadata": {},
   "outputs": [],
   "source": [
    "\n",
    "for i in Ind:\n",
    "    industry_ind_total = len(all_ind_df[(all_ind_df[\"Indication\"] == i) &(all_ind_df[\"industry\"] == 1)])\n",
    "    print( f'{i}:', \"Percentage Industry Sponsored:  \",industry_ind_total,   \"Percentage: \", industry_ind_total/len(all_ind_df[all_ind_df[\"Indication\"] == i]))\n"
   ]
  },
  {
   "cell_type": "code",
   "execution_count": null,
   "metadata": {},
   "outputs": [],
   "source": [
    "kinesia_total = len(all_ind_df[(all_ind_df[\"Indication\"] == 'PARK') &(all_ind_df[\"kinesia\"] == 1) ])\n",
    "print( f'{i}:', \"Kinesia in Parkinson:  \",physio_total,   \"Percentage: \", kinesia_total/len(all_ind_df[all_ind_df[\"Indication\"] == 'PARK']))\n"
   ]
  },
  {
   "cell_type": "code",
   "execution_count": null,
   "metadata": {},
   "outputs": [],
   "source": [
    "len(all_ind_df[(all_ind_df[\"year\"] == 2010) ]) #3 of 431\n",
    "len(all_ind_df[(all_ind_df[\"year\"] == 2021) ]) #86 of 880\n"
   ]
  },
  {
   "cell_type": "code",
   "execution_count": null,
   "metadata": {},
   "outputs": [],
   "source": [
    "len(all_ind_df[((all_ind_df[\"year\"] == 2021) & (all_ind_df[\"industry\"] ==1 )) ]) #3 of 431\n"
   ]
  },
  {
   "cell_type": "code",
   "execution_count": null,
   "metadata": {},
   "outputs": [],
   "source": [
    "#Binarised outcomes\n",
    "\n",
    "b_outcomes = [\"gamification\",\t\"motor_function\",\t\"exercising\",\t\"disease_or_symptom_tracking\",\t\"sleep_tracking\",\t\"speech_tracking\",\t\"carer_support\",\t\"cognition_tracking\",\t\"medication_adherence\"]\n"
   ]
  },
  {
   "cell_type": "code",
   "execution_count": null,
   "metadata": {},
   "outputs": [],
   "source": [
    "for outcome in b_outcomes:\n",
    "    all_stuff = len(all_ind_df[(all_ind_df[outcome] == 1)])\n",
    "    print( f'{outcome}:', all_stuff,   \"Percentage: \", all_stuff/len(all_ind_df))\n"
   ]
  },
  {
   "cell_type": "code",
   "execution_count": null,
   "metadata": {},
   "outputs": [],
   "source": [
    "rel_years = [2010, 2012, 2014, 2016, 2018, 2020, 2021]"
   ]
  },
  {
   "cell_type": "code",
   "execution_count": null,
   "metadata": {},
   "outputs": [],
   "source": [
    "for outcome in b_outcomes:\n",
    "    for i in Ind:\n",
    "        all_stuff = len(all_ind_df[(all_ind_df[\"Indication\"] == i) &((all_ind_df[outcome] == 1) )])\n",
    "        print( f'{outcome}:', i,  all_stuff,   \"Percentage: \", all_stuff/len(all_ind_df[all_ind_df[\"Indication\"] == i]))\n"
   ]
  },
  {
   "cell_type": "code",
   "execution_count": null,
   "metadata": {},
   "outputs": [],
   "source": [
    "all_ind_df[\"year\"]"
   ]
  },
  {
   "cell_type": "code",
   "execution_count": null,
   "metadata": {},
   "outputs": [],
   "source": [
    "for year in rel_years:\n",
    "    for i in Ind:\n",
    "        number_of_studies = len(all_ind_df[(all_ind_df[\"Indication\"] == i) &((all_ind_df[\"year\"] == year) )])\n",
    "        print( f'{year}:', i,  number_of_studies,   )\n"
   ]
  },
  {
   "cell_type": "code",
   "execution_count": null,
   "metadata": {},
   "outputs": [],
   "source": [
    "rel_years = [2010,2011,2012,2013,2014,2015,2016,2017,2018,2019,2020,2021]"
   ]
  },
  {
   "cell_type": "code",
   "execution_count": null,
   "metadata": {},
   "outputs": [],
   "source": [
    "for year in rel_years:\n",
    "    print(year, len(all_ind_df[((all_ind_df[\"year\"] == year) )]))"
   ]
  },
  {
   "cell_type": "code",
   "execution_count": null,
   "metadata": {},
   "outputs": [],
   "source": [
    "\n",
    "for i in Ind:\n",
    "    ind_num = len(all_ind_df[(all_ind_df[\"Indication\"] == i) ])\n",
    "    print(  i,  ind_num,   )\n"
   ]
  },
  {
   "cell_type": "code",
   "execution_count": null,
   "metadata": {},
   "outputs": [],
   "source": [
    "for i in Ind:\n",
    "    physio_total = len(all_ind_df[(all_ind_df[\"Indication\"] == i) &((all_ind_df[\"kinect\"] == 1) | (all_ind_df[\"xbox\"] == 1) | (all_ind_df[\"nintendo_wii\"] == 1) )])\n",
    "    print( f'{i}:', \"Physio Virtual Training:  \",physio_total,   \"Percentage: \", physio_total/len(all_ind_df[all_ind_df[\"Indication\"] == i]))\n"
   ]
  },
  {
   "cell_type": "code",
   "execution_count": null,
   "metadata": {},
   "outputs": [],
   "source": [
    "game_res = all_ind_df.groupby(\"year\")[\"gamification\"].value_counts(normalize=True, sort = False)\n",
    "game_res = game_res[1::2]"
   ]
  },
  {
   "cell_type": "code",
   "execution_count": null,
   "metadata": {},
   "outputs": [],
   "source": [
    "all_ind_df.groupby(\"year\")[\"gamification\"].value_counts(normalize=True, sort = False)\n"
   ]
  },
  {
   "cell_type": "code",
   "execution_count": null,
   "metadata": {},
   "outputs": [],
   "source": [
    "all_ind_df.groupby(\"year\")[\"sleep_tracking\"].value_counts(normalize=True, sort = False)\n"
   ]
  },
  {
   "cell_type": "code",
   "execution_count": null,
   "metadata": {},
   "outputs": [],
   "source": [
    "all_ind_df.groupby(\"year\")[\"speech_tracking\"].value_counts(normalize=True, sort = False)\n"
   ]
  },
  {
   "cell_type": "code",
   "execution_count": null,
   "metadata": {},
   "outputs": [],
   "source": [
    "all_ind_df.groupby(\"year\")[\"cognition_tracking\"].value_counts(normalize=True, sort = False)\n"
   ]
  },
  {
   "cell_type": "code",
   "execution_count": null,
   "metadata": {},
   "outputs": [],
   "source": [
    "exer_res = all_ind_df.groupby(\"year\")[\"exercising\"].value_counts(normalize=True, sort = False)\n"
   ]
  },
  {
   "cell_type": "code",
   "execution_count": null,
   "metadata": {},
   "outputs": [],
   "source": [
    "all_ind_df.groupby(\"year\")[\"motor_function\"].value_counts(normalize=True, sort = False)\n"
   ]
  },
  {
   "cell_type": "code",
   "execution_count": null,
   "metadata": {},
   "outputs": [],
   "source": [
    "all_ind_df.groupby(\"year\")[\"carer_support\"].value_counts(normalize=True, sort = False)\n"
   ]
  },
  {
   "cell_type": "code",
   "execution_count": null,
   "metadata": {},
   "outputs": [],
   "source": [
    "all_ind_df.groupby(\"year\")[\"exercising\"].value_counts(normalize=True, sort = False)\n"
   ]
  },
  {
   "cell_type": "code",
   "execution_count": null,
   "metadata": {},
   "outputs": [],
   "source": [
    "all_ind_df.groupby(\"year\")[\"disease_or_symptom_tracking\"].value_counts(normalize=True, sort = False)\n"
   ]
  },
  {
   "cell_type": "code",
   "execution_count": null,
   "metadata": {},
   "outputs": [],
   "source": [
    "all_ind_df.groupby(\"year\")[\"medication_adherence\"].value_counts(normalize=True,sort = False)\n"
   ]
  },
  {
   "attachments": {},
   "cell_type": "markdown",
   "metadata": {},
   "source": [
    "### Analysis of longitudinal developments of features"
   ]
  },
  {
   "cell_type": "code",
   "execution_count": null,
   "metadata": {},
   "outputs": [],
   "source": [
    "line_graph_data = all_ind_df.groupby(\"year\").agg({i:'value_counts' for i in [\"motor_function\", \"sleep_tracking\",\"cognition_tracking\", \"speech_tracking\"]})\n",
    "line_graph_data = line_graph_data[::2]\n",
    "\n",
    "\n",
    "line_graph_data.index = [2010,2011,2012,2013,2014,2015,2016,2017,2018,2019,2020,2021]\n"
   ]
  },
  {
   "cell_type": "code",
   "execution_count": null,
   "metadata": {},
   "outputs": [],
   "source": [
    "print(line_graph_data)"
   ]
  },
  {
   "cell_type": "code",
   "execution_count": null,
   "metadata": {},
   "outputs": [],
   "source": [
    "line_graph_data['all_trials'] = [431,442, 472, 508, 542, 604, 625, 631,743, 825, 719, 882]\n",
    "line_graph_data[\"share_motor\"] = line_graph_data.motor_function/line_graph_data.all_trials*100\n",
    "line_graph_data[\"share_sleep\"] = line_graph_data.sleep_tracking/line_graph_data.all_trials*100\n",
    "line_graph_data[\"share_cognition\"] = line_graph_data.cognition_tracking/line_graph_data.all_trials*100\n",
    "line_graph_data[\"share_speech\"] = line_graph_data.speech_tracking/line_graph_data.all_trials*100"
   ]
  },
  {
   "cell_type": "code",
   "execution_count": null,
   "metadata": {},
   "outputs": [],
   "source": [
    "# Line Chart of Tracking Modalities\n",
    "fig, axes = plt.subplots(2,2, figsize = (8,5.5), sharex = True, sharey = False, gridspec_kw = {'wspace':0.06, 'hspace':0.5})\n",
    "#fig.suptitle(\"Tracking Modalities Used in Analyzed Trials Over Time\", y = 1.06)\n",
    "sns.set_theme(style=\"white\")\n",
    "\n",
    "\n",
    "\n",
    "sns.barplot(ax = axes[0,0],  y= line_graph_data.motor_function, x= line_graph_data.index, color = \"DarkOliveGreen\", label =\"Number of DHT Trials\")\n",
    "ax2 = axes[0,0].twinx()\n",
    "plot2 = sns.lineplot(ax = ax2, x = axes[0,0].get_xticks(), y = line_graph_data.share_motor, color = \"Orange\", label= '% of all ClinicalTrials.gov\\n Registered Trials')\n",
    "handles1,labels1 = axes[0,0].get_legend_handles_labels()\n",
    "handles2,labels2 = ax2.get_legend_handles_labels()\n",
    "handles = handles1+handles2\n",
    "labels= labels1+labels2\n",
    "ax2.legend(handles, labels,fontsize = \"x-small\")\n",
    "\n",
    "\n",
    "\n",
    "sns.barplot(ax = axes[0,1], label = \"sleep_tracking\",  y= line_graph_data.sleep_tracking, x= line_graph_data.index, color = \"DarkOliveGreen\")\n",
    "ax3 = axes[0,1].twinx()\n",
    "plot3 = sns.lineplot(ax = ax3, x = axes[0,1].get_xticks(), y = line_graph_data.share_sleep, color = \"Orange\")\n",
    "#ax3.legend(handles, labels,fontsize = \"x-small\", loc = 0)\n",
    "\n",
    "sns.barplot(ax = axes[1,0], label = \"cognition_tracking\",  y= line_graph_data.cognition_tracking, x= line_graph_data.index, color = \"DarkOliveGreen\")\n",
    "ax4 = axes[1,0].twinx()\n",
    "plot4 = sns.lineplot(ax = ax4, x = axes[1,1].get_xticks(), y = line_graph_data.share_cognition, color = \"Orange\")\n",
    "\n",
    "\n",
    "sns.barplot(ax = axes[1,1], label = \"speech_tracking\",  y= line_graph_data.speech_tracking, x= line_graph_data.index, color = \"DarkOliveGreen\")\n",
    "ax5 = axes[1,1].twinx()\n",
    "plot5 = sns.lineplot(ax = ax5, x = axes[1,1].get_xticks(), y = line_graph_data.share_speech, color = \"Orange\")\n",
    "\n",
    "\n",
    "axes[0,0].set_title(\"Motor Tracking\", pad = 0.5)\n",
    "axes[0,1].set_title(\"Sleep Tracking\", pad = 0.5)\n",
    "axes[1,0].set_title(\"Cognition Tracking\", pad = 0.5)\n",
    "axes[1,1].set_title(\"Speech Tracking\", pad = 0.5)\n",
    "axes[0,0].set_ylabel(\"Number of DHT Trials\")\n",
    "axes[0,1].set_ylabel(\"\")\n",
    "axes[0,1].set_yticklabels([])\n",
    "axes[0,1].set_yticks([])\n",
    "axes[1,0].set_ylabel(\"Number of DHT Trials\")\n",
    "axes[1,1].set_ylabel(\"\")\n",
    "axes[1,1].set_yticklabels([])\n",
    "axes[1,1].set_yticks([])\n",
    "\n",
    "axes[1,0].set_xticklabels(axes[1,0].get_xticklabels(), rotation = 45)\n",
    "axes[1,1].set_xticklabels(axes[1,1].get_xticklabels(), rotation = 45)\n",
    "\n",
    "axes[0,0].set_ylim(0,70)\n",
    "axes[0,1].set_ylim(0,70)\n",
    "axes[1,0].set_ylim(0,70)\n",
    "axes[1,1].set_ylim(0,70)\n",
    "\n",
    "\n",
    "\n",
    "ax2.set_ylim(0,8)\n",
    "ax2.set_yticklabels([])\n",
    "ax2.set_yticks([])\n",
    "ax3.set_ylim(0,8)\n",
    "ax4.set_ylim(0,8)\n",
    "ax4.set_yticklabels([])\n",
    "ax4.set_yticks([])\n",
    "ax5.set_ylim(0,8)\n",
    "\n",
    "ax2.set_ylabel(\"\")\n",
    "ax3.set_ylabel(\"% of All Trials\")\n",
    "ax4.set_ylabel(\"\")\n",
    "ax5.set_ylabel(\"% of All Trials\")\n",
    "\n",
    "\n",
    "sns.despine(left = True, bottom = False)\n",
    "plt.savefig('Graphs/99_AGG_Tracking_Modalities_Over_Time_Hist_with_share.svg', dpi = 600, bbox_inches = 'tight')\n",
    "plt.savefig('Graphs/99_AGG_Tracking_Modalities_Over_Time_Hist_with_share.eps', dpi = 600, bbox_inches = 'tight')\n",
    "\n",
    "plt.show()"
   ]
  },
  {
   "attachments": {},
   "cell_type": "markdown",
   "metadata": {},
   "source": [
    "## Save tools used in studies"
   ]
  },
  {
   "cell_type": "code",
   "execution_count": null,
   "metadata": {},
   "outputs": [],
   "source": [
    "Tools_in_Studies = pd.DataFrame(columns= [\"ID\", \"Tools\"])\n",
    "for i in range(len(all_ind_df)):    \n",
    "    Tools_in_Studies.at[ i, \"ID\"] = all_ind_df[\"nct_id\"][i]\n",
    "    my_tools = tools_df.iloc[[i]][(tools_df.iloc[[i]] > 0)].copy()\n",
    "    my_tools.dropna(axis = 1, inplace = True)    \n",
    "    Tools_in_Studies.at[ i, \"Tools\"] = list(my_tools.columns)   \n",
    "    \n",
    "\n",
    "Tools_in_Studies.to_excel(\"Outputs/99_AGG_Tools_in_Studies.xlsx\")\n"
   ]
  },
  {
   "attachments": {},
   "cell_type": "markdown",
   "metadata": {},
   "source": [
    "## Location and map analysis"
   ]
  },
  {
   "cell_type": "code",
   "execution_count": null,
   "metadata": {},
   "outputs": [],
   "source": [
    "all_ind_df[\"main_site\"] = all_ind_df[\"main_site\"].fillna(\"\")\n",
    "all_ind_df[\"main_country\"] = all_ind_df[\"main_country\"].fillna(\"\")"
   ]
  },
  {
   "cell_type": "code",
   "execution_count": null,
   "metadata": {},
   "outputs": [],
   "source": [
    "all_ind_df[\"CombiCode\"] = all_ind_df[[ \"main_site\",  'main_country']].agg(', '.join, axis=1)\n",
    "\n"
   ]
  },
  {
   "cell_type": "code",
   "execution_count": null,
   "metadata": {},
   "outputs": [],
   "source": [
    "def do_geocode(address, attempt=1, max_attempts=5):\n",
    "    try:\n",
    "        return geopy.geocode(address)\n",
    "    except GeocoderTimedOut:\n",
    "        if attempt <= max_attempts:\n",
    "            return do_geocode(address, attempt=attempt+1)\n",
    "        raise"
   ]
  },
  {
   "cell_type": "code",
   "execution_count": null,
   "metadata": {},
   "outputs": [],
   "source": [
    "all_ind_df[\"geocode\"] = all_ind_df[\"CombiCode\"].apply(RateLimiter(geolocator.geocode, min_delay_seconds=1))\n",
    "\n"
   ]
  },
  {
   "cell_type": "code",
   "execution_count": null,
   "metadata": {},
   "outputs": [],
   "source": [
    "####add noise to coordinates!"
   ]
  },
  {
   "cell_type": "code",
   "execution_count": null,
   "metadata": {},
   "outputs": [],
   "source": [
    "loc_df = all_ind_df[~pd.isna(all_ind_df[\"geocode\"])]\n"
   ]
  },
  {
   "cell_type": "code",
   "execution_count": null,
   "metadata": {},
   "outputs": [],
   "source": [
    "loc_df[\"latitude\"] = loc_df[\"geocode\"].apply(lambda x: (x.latitude))\n",
    "loc_df[\"longitude\"] = loc_df[\"geocode\"].apply(lambda x: (x.longitude))\n"
   ]
  },
  {
   "cell_type": "code",
   "execution_count": null,
   "metadata": {},
   "outputs": [],
   "source": [
    "loc_df[\"latitude\"]\n",
    "import random \n",
    "\n",
    "loc_df[\"latitude\"] = loc_df[\"latitude\"].apply(lambda x: np.add(random.uniform(-0.05, 0.05), float(x)))\n",
    "loc_df[\"longitude\"] = loc_df[\"longitude\"].apply(lambda x: np.add(random.uniform(-0.05, 0.05), float(x)))\n"
   ]
  },
  {
   "cell_type": "code",
   "execution_count": null,
   "metadata": {},
   "outputs": [],
   "source": [
    "all_coutries = all_ind_df.groupby(\"main_country\", sort = True)[\"nct_id\"].count().sort_values(ascending=False)"
   ]
  },
  {
   "cell_type": "code",
   "execution_count": null,
   "metadata": {},
   "outputs": [],
   "source": [
    "all_ind_df.groupby(\"main_country\", sort = True)[\"nct_id\"].count().sort_values(ascending=False)"
   ]
  },
  {
   "cell_type": "code",
   "execution_count": null,
   "metadata": {},
   "outputs": [],
   "source": [
    "all_ind_df.groupby(\"main_country\", sort = True)[\"nct_id\"].count().sort_values(ascending=False)"
   ]
  },
  {
   "cell_type": "code",
   "execution_count": null,
   "metadata": {},
   "outputs": [],
   "source": [
    "countries_by_indication = all_ind_df.groupby([\"main_country\", \"Indication\"], sort = True)[\"nct_id\"].count()\n",
    "countries_by_indication.to_excel(\"Outputs/Countries_and_Indication.xlsx\")"
   ]
  },
  {
   "cell_type": "code",
   "execution_count": null,
   "metadata": {},
   "outputs": [],
   "source": [
    "all_data_regardless_ind = loc_df.copy()\n",
    "all_data_regardless_ind[\"Indication\"] = \"All\"\n",
    "all_data_regardless_ind = loc_df.append(all_data_regardless_ind, ignore_index= True)\n",
    "nice_names = {\"MS\": \"Multiple Sclerosis\", \"ALZ\": \"Alzheimer's Disease\", \"PARK\" : \"Parkinson's Disease\", \"EPI\":\"Epilepsy\"}\n",
    "all_data_regardless_ind[\"Indication\"] = all_data_regardless_ind.Indication.replace(nice_names, regex = True) \n",
    "\n"
   ]
  },
  {
   "cell_type": "code",
   "execution_count": null,
   "metadata": {},
   "outputs": [],
   "source": [
    "all_data_regardless_ind.rename(columns={'CombiCode':'Location', 'official_title': \"Official Title\"}, inplace=True)"
   ]
  },
  {
   "cell_type": "code",
   "execution_count": null,
   "metadata": {},
   "outputs": [],
   "source": [
    "loc_df[\"latitude\"] = loc_df[\"latitude\"].apply(lambda x: np.add(random.uniform(-0.05, 0.05), float(x)))\n",
    "loc_df[\"longitude\"] = loc_df[\"longitude\"].apply(lambda x: np.add(random.uniform(-0.05, 0.05), float(x)))\n",
    "\n"
   ]
  },
  {
   "cell_type": "code",
   "execution_count": null,
   "metadata": {},
   "outputs": [],
   "source": [
    "pal"
   ]
  },
  {
   "cell_type": "code",
   "execution_count": null,
   "metadata": {},
   "outputs": [],
   "source": [
    "pal = pal.as_hex()\n",
    "print(pal)"
   ]
  },
  {
   "cell_type": "code",
   "execution_count": null,
   "metadata": {},
   "outputs": [],
   "source": [
    "loc_df[\"Indication\"].unique()\n"
   ]
  },
  {
   "cell_type": "code",
   "execution_count": null,
   "metadata": {},
   "outputs": [],
   "source": [
    "nice_names = {\"MS\": \"Multiple Sclerosis\", \"ALZ\": \"Alzheimer's Disease\", \"PARK\" : \"Parkinson's Disease\", \"EPI\":\"Epilepsy\"}\n",
    "\n",
    "loc_df[\"Indication\"] = loc_df[\"Indication\"].cat.rename_categories({\"MS\": \"Multiple Sclerosis\", \"ALZ\": \"Alzheimer's Disease\", \"PARK\" : \"Parkinson's Disease\", \"EPI\":\"Epilepsy\"})\n",
    "loc_df.rename(columns={'CombiCode':'Location', 'official_title': \"Official Title\"}, inplace=True)"
   ]
  },
  {
   "cell_type": "code",
   "execution_count": null,
   "metadata": {},
   "outputs": [],
   "source": [
    "loc_df.rename(columns={'CombiCode':'Location', 'official_title': \"Official Title\"}, inplace=True)"
   ]
  },
  {
   "cell_type": "code",
   "execution_count": null,
   "metadata": {},
   "outputs": [],
   "source": [
    "all_ind = list(loc_df[\"Indication\"].unique())\n",
    "color_match = {\"Epilepsy\":'#cd5c5c' , \"Alzheimer's Disease\":'#ffd700', \"Multiple Sclerosis\":'#87ceeb', \"Parkinson's Disease\":'#9457db'}"
   ]
  },
  {
   "cell_type": "code",
   "execution_count": null,
   "metadata": {},
   "outputs": [],
   "source": [
    "fig = px.density_mapbox(all_data_regardless_ind, lat=\"latitude\", lon=\"longitude\", radius=15, \n",
    "                        center=dict(lat=52, lon=10), zoom=2, color_continuous_scale = \"Greys\", animation_frame= \"Indication\", opacity= 0.6,\n",
    "                        hover_name= \"nct_id\", hover_data= {\"latitude\": False, \"longitude\": False, \"Official Title\" :True, \"Location\" : True },\n",
    "                        mapbox_style=\"carto-positron\")\n",
    "fig.update_layout(margin={\"r\":0,\"t\":0,\"l\":0,\"b\":0})\n",
    "\n",
    "for i in all_ind:\n",
    "    ind_df = loc_df[(loc_df.Indication == i)]\n",
    "    fig.add_trace(go.Scattermapbox(\n",
    "        name = i,\n",
    "        lon = ind_df[\"longitude\"],\n",
    "        lat = ind_df[\"latitude\"],\n",
    "        hoverinfo = \"skip\",\n",
    "        line = dict(\n",
    "        # width = 1,\n",
    "            color = color_match[i]),\n",
    "        mode = 'markers',\n",
    "        opacity = 0.7,\n",
    "        below =  \"\", \n",
    "\n",
    "        ))\n",
    "fig.update(layout_coloraxis_showscale=False)\n",
    "\n",
    "#Optional line:\n",
    "py.plot(fig, filename = 'DT_Locations_with_underlying_heatmap', auto_open=True)\n",
    "\n",
    "\n",
    "\n",
    "fig.write_html(\"Graphs/Location_with_underlying_heatmap.html\")\n",
    "fig.show()"
   ]
  }
 ],
 "metadata": {
  "kernelspec": {
   "display_name": "Python 3.8.13 ('Neuro_ML')",
   "language": "python",
   "name": "python3"
  },
  "language_info": {
   "codemirror_mode": {
    "name": "ipython",
    "version": 3
   },
   "file_extension": ".py",
   "mimetype": "text/x-python",
   "name": "python",
   "nbconvert_exporter": "python",
   "pygments_lexer": "ipython3",
   "version": "3.8.13"
  },
  "vscode": {
   "interpreter": {
    "hash": "92395de5a292d05cc7048147f339db85f17f1d768890535c5ce7e0b7f92bafa7"
   }
  }
 },
 "nbformat": 4,
 "nbformat_minor": 2
}
